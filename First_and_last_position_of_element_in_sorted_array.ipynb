{
  "nbformat": 4,
  "nbformat_minor": 0,
  "metadata": {
    "colab": {
      "provenance": [],
      "toc_visible": true
    },
    "kernelspec": {
      "name": "python3",
      "display_name": "Python 3"
    },
    "language_info": {
      "name": "python"
    }
  },
  "cells": [
    {
      "cell_type": "code",
      "execution_count": 1,
      "metadata": {
        "colab": {
          "base_uri": "https://localhost:8080/"
        },
        "id": "n4GfE2jlz6uc",
        "outputId": "16f7ae1f-6932-4b41-fea9-c1460dc02ec9"
      },
      "outputs": [
        {
          "output_type": "stream",
          "name": "stdout",
          "text": [
            "[3, 4]\n",
            "[-1, -1]\n",
            "[-1, -1]\n"
          ]
        }
      ],
      "source": [
        "class Solution(object):\n",
        "    def lowerbound(self, A, N, X):\n",
        "        low, high = 0, N - 1\n",
        "        ans = -1\n",
        "\n",
        "        while low <= high:\n",
        "            mid = (low + high) // 2\n",
        "            if A[mid] >= X:\n",
        "                ans = mid\n",
        "                high = mid - 1\n",
        "            else:\n",
        "                low = mid + 1\n",
        "\n",
        "        return ans\n",
        "\n",
        "    def upperbound(self, A, N, X):\n",
        "        low, high = 0, N - 1\n",
        "        ans = -1\n",
        "\n",
        "        while low <= high:\n",
        "            mid = (low + high) // 2\n",
        "            if A[mid] > X:\n",
        "                high = mid - 1\n",
        "            else:\n",
        "                ans = mid\n",
        "                low = mid + 1\n",
        "\n",
        "        return ans\n",
        "\n",
        "    def searchRange(self, nums, target):\n",
        "        N = len(nums)\n",
        "        if N == 0:\n",
        "            return [-1, -1]\n",
        "\n",
        "        lb = self.lowerbound(nums, N, target)\n",
        "        if lb == -1 or nums[lb] != target:\n",
        "            return [-1, -1]\n",
        "\n",
        "        ub = self.upperbound(nums, N, target)\n",
        "        return [lb, ub]\n",
        "\n",
        "\n",
        "# Example usage:\n",
        "solution = Solution()\n",
        "print(solution.searchRange([5, 7, 7, 8, 8, 10], 8))  # Output: [3, 4]\n",
        "print(solution.searchRange([5, 7, 7, 8, 8, 10], 6))  # Output: [-1, -1]\n",
        "print(solution.searchRange([], 0))  # Output: [-1, -1]\n"
      ]
    }
  ]
}